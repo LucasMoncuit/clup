{
 "cells": [
  {
   "cell_type": "markdown",
   "metadata": {},
   "source": [
    "# Cutting plane and bundle methods\n",
    "The second part of the tutorial focuses on cutting plane and bundle\n",
    "methods. We aim at resolving the following LASSO problem:\n",
    "$$\n",
    "\\min_r \\;f(r) =  \\| X r + b \\|_2^2 + \\lambda \\|r \\|_1\n",
    "$$\n",
    "with $\\lambda$ a given regularization parameter, $X$ and $b$ input data.\n",
    "\n",
    "## Settings\n",
    "We import the usual packages:"
   ]
  },
  {
   "cell_type": "code",
   "execution_count": 1,
   "metadata": {},
   "outputs": [],
   "source": [
    "using Printf, Random\n",
    "using LinearAlgebra\n",
    "using ForwardDiff\n",
    "using JuMP, CPLEX\n",
    "using PyPlot"
   ]
  },
  {
   "cell_type": "markdown",
   "metadata": {},
   "source": [
    "Fix seed"
   ]
  },
  {
   "cell_type": "code",
   "execution_count": 2,
   "metadata": {},
   "outputs": [],
   "source": [
    "Random.seed!(2713);"
   ]
  },
  {
   "cell_type": "markdown",
   "metadata": {},
   "source": [
    "Some constants"
   ]
  },
  {
   "cell_type": "code",
   "execution_count": 3,
   "metadata": {},
   "outputs": [
    {
     "data": {
      "text/plain": [
       "CPLEX.Optimizer"
      ]
     },
     "execution_count": 3,
     "metadata": {},
     "output_type": "execute_result"
    }
   ],
   "source": [
    "const LB = -1e10\n",
    "const UB =  1e10\n",
    "const EPS = 1e-8\n",
    "const SOLVER = CPLEX.Optimizer"
   ]
  },
  {
   "cell_type": "markdown",
   "metadata": {},
   "source": [
    "We first generate artificial data to study the algorithm:"
   ]
  },
  {
   "cell_type": "code",
   "execution_count": 4,
   "metadata": {},
   "outputs": [],
   "source": [
    "include(\"data.jl\")\n",
    "\n",
    "nVariables = 10;\n",
    "nCassures = 10;\n",
    "xMin, xMax = build_bounds(nVariables)\n",
    "A = build_X(nVariables, nCassures, xMin, xMax);\n",
    "b = randn(nCassures);\n",
    "λ = 50.0;"
   ]
  },
  {
   "cell_type": "markdown",
   "metadata": {},
   "source": [
    "Build oracle for objective:"
   ]
  },
  {
   "cell_type": "code",
   "execution_count": 5,
   "metadata": {},
   "outputs": [],
   "source": [
    "f(u) = 0.5 * norm(A*u - b, 2)^2 + λ * norm(u, 1);"
   ]
  },
  {
   "cell_type": "markdown",
   "metadata": {},
   "source": [
    "## Cutting plane\n",
    "The cutting plane method builds a proxy $\\underline{f}_k$ for the original\n",
    "function $f$, such that $\\underline{f}_k$ is polyhedral and is a lower approximation:\n",
    "$$\n",
    "\\underline{f}_k \\leq f \\quad \\forall k\n",
    "$$\n",
    "If we have at disposal a collection of point $x_1, \\cdots, x_k$,\n",
    "with associated subgradients $g_1, \\cdots, g_k$, the function\n",
    "$\\underline{f}_k$ writes out\n",
    "$$\n",
    "\\begin{aligned}\n",
    "f_k(x) = min_x \\;& \\theta  \\\\\n",
    "         s.t. \\quad & \\theta \\geq g_k^\\top (x - x_k) + f(x_k)\n",
    "\\end{aligned}\n",
    "$$\n",
    "Using the JuMP modeler, the master problem at iteration 0 writes as"
   ]
  },
  {
   "cell_type": "code",
   "execution_count": 6,
   "metadata": {},
   "outputs": [],
   "source": [
    "function init_master_cutting_plane(model, X, xMin, xMax)\n",
    "    nVariables, nCassures = size(X)\n",
    "    x_ = @variable(model, xMin[i] <= x_[i in 1:nVariables] <= xMax[i])\n",
    "    α_ = @variable(model, α_ >= LB)\n",
    "    @objective(model, Min, α_)\n",
    "    return x_, α_\n",
    "end;"
   ]
  },
  {
   "cell_type": "markdown",
   "metadata": {},
   "source": [
    "With these two ingredients, we could define the cutting plane algorithm"
   ]
  },
  {
   "cell_type": "code",
   "execution_count": 7,
   "metadata": {},
   "outputs": [],
   "source": [
    "function launch_cutting_plane(xMin, xMax, maxit=10000)\n",
    "    master = Model(SOLVER)\n",
    "    JuMP.set_silent(master)\n",
    "    stop = false\n",
    "    x, α = init_master_cutting_plane(master, xMin, xMax)\n",
    "    lb, ub = LB, UB\n",
    "\n",
    "    best_ub = ub\n",
    "    \n",
    "    list_ub = []\n",
    "    list_lb = []\n",
    "    list_best_ub = []\n",
    "\n",
    "    for n_iter in 1:maxit\n",
    "        JuMP.optimize!(master)\n",
    "        lb = JuMP.value(α)\n",
    "        x_k = JuMP.value.(x)\n",
    "        f_k = f(x_k)\n",
    "        g_k = ForwardDiff.gradient(f, x_k)\n",
    "        ub = f_k\n",
    "        best_ub = min(ub, best_ub)\n",
    "        \n",
    "        if lb >= best_ub - EPS\n",
    "            break\n",
    "        else\n",
    "            @constraint(master, α >= f_k + dot(g_k, x - x_k))\n",
    "        end\n",
    "        append!(list_ub, ub)\n",
    "        append!(list_lb, lb)\n",
    "        append!(list_best_ub, best_ub)\n",
    "    end\n",
    "\n",
    "    return list_ub, list_lb, list_best_ub\n",
    "end;"
   ]
  },
  {
   "cell_type": "code",
   "execution_count": 8,
   "metadata": {},
   "outputs": [
    {
     "ename": "MethodError",
     "evalue": "MethodError: no method matching Model(::Type{CPLEX.Optimizer})\nClosest candidates are:\n  Model(::Any, !Matched::Any, !Matched::Any, !Matched::Any, !Matched::Any, !Matched::Any, !Matched::Any, !Matched::Any) at /home/lucas/.julia/packages/JuMP/MsUSY/src/JuMP.jl:126\n  Model(; caching_mode, solver) at /home/lucas/.julia/packages/JuMP/MsUSY/src/JuMP.jl:163\n  Model(!Matched::MathOptInterface.AbstractOptimizer, !Matched::Dict{MathOptInterface.ConstraintIndex,AbstractShape}, !Matched::Set{Any}, !Matched::Any, !Matched::Any, !Matched::Dict{Symbol,Any}, !Matched::Int64, !Matched::Dict{Symbol,Any}) at /home/lucas/.julia/packages/JuMP/MsUSY/src/JuMP.jl:126\n  ...",
     "output_type": "error",
     "traceback": [
      "MethodError: no method matching Model(::Type{CPLEX.Optimizer})\nClosest candidates are:\n  Model(::Any, !Matched::Any, !Matched::Any, !Matched::Any, !Matched::Any, !Matched::Any, !Matched::Any, !Matched::Any) at /home/lucas/.julia/packages/JuMP/MsUSY/src/JuMP.jl:126\n  Model(; caching_mode, solver) at /home/lucas/.julia/packages/JuMP/MsUSY/src/JuMP.jl:163\n  Model(!Matched::MathOptInterface.AbstractOptimizer, !Matched::Dict{MathOptInterface.ConstraintIndex,AbstractShape}, !Matched::Set{Any}, !Matched::Any, !Matched::Any, !Matched::Dict{Symbol,Any}, !Matched::Int64, !Matched::Dict{Symbol,Any}) at /home/lucas/.julia/packages/JuMP/MsUSY/src/JuMP.jl:126\n  ...",
      "",
      "Stacktrace:",
      " [1] launch_cutting_plane(::Array{Float64,1}, ::Array{Float64,1}, ::Int64) at ./In[7]:2",
      " [2] top-level scope at In[8]:1"
     ]
    }
   ],
   "source": [
    "list_ub, list_lb, list_best_ub = launch_cutting_plane(xMin, xMax, 10000);"
   ]
  },
  {
   "cell_type": "code",
   "execution_count": 9,
   "metadata": {},
   "outputs": [
    {
     "ename": "UndefVarError",
     "evalue": "UndefVarError: list_best_ub not defined",
     "output_type": "error",
     "traceback": [
      "UndefVarError: list_best_ub not defined",
      "",
      "Stacktrace:",
      " [1] top-level scope at In[9]:1"
     ]
    }
   ],
   "source": [
    "list_best_ub[end] #Displays the value of min theta"
   ]
  },
  {
   "cell_type": "code",
   "execution_count": 10,
   "metadata": {},
   "outputs": [
    {
     "ename": "UndefVarError",
     "evalue": "UndefVarError: list_best_ub not defined",
     "output_type": "error",
     "traceback": [
      "UndefVarError: list_best_ub not defined",
      "",
      "Stacktrace:",
      " [1] top-level scope at In[10]:1"
     ]
    }
   ],
   "source": [
    "N = length(list_best_ub)\n",
    "\n",
    "figure()\n",
    "plot((1:N), list_best_ub[1:end])\n",
    "legend([\"best_ub\"])\n",
    "title(\"Evolution du meilleur majorant\")\n",
    "\n",
    "figure()\n",
    "semilogy((1:N), list_best_ub-list_lb))\n",
    "legend([\"Longueur intrvl sols\"])\n",
    "title(\"Evolution de l'amplitude l'intervalle des solutions admissibles à chaque itération\")"
   ]
  },
  {
   "cell_type": "markdown",
   "metadata": {},
   "source": [
    "## Bundle algorithm\n",
    "Comparing to the cutting plane method, the bundle algorithm adds a\n",
    "quadratic penalization to the polyhedral proxy model.\n",
    "The function .\n",
    "$$\n",
    "\\begin{aligned}\n",
    "f_k(x) = min_x \\;& \\theta + \\frac 12 \\| x - x_k \\|_2^2 \\\\\n",
    "         s.t. \\quad & \\theta \\geq g_k^\\top (x - x_k) + f(x_k)\n",
    "\\end{aligned}\n",
    "$$"
   ]
  },
  {
   "cell_type": "code",
   "execution_count": 11,
   "metadata": {},
   "outputs": [],
   "source": [
    "function update_center(centre1, centre2)\n",
    "    JuMP.fix.(centre1, centre2)\n",
    "end\n",
    "\n",
    "\n",
    "function launch_proximal(xMin, xMax, maxit=10000)\n",
    "    \n",
    "    nVariables = nCassures = length(xMin)\n",
    "    x_k = zeros(nVariables)\n",
    "    x_temp = zeros(nVariables)\n",
    "    master = Model(SOLVER) \n",
    "    JuMP.set_silent(master)\n",
    "    centre1 = @variable(master, centre1[1:nVariables])\n",
    "    x_m = @variable(master, xMin[i] <= x_m[i in 1:nVariables] <= xMax[i])\n",
    "    α = @variable(master, α >= LB)\n",
    "\n",
    "    weight = 1.0 # weight of the regularization term\n",
    "    @objective(master, Min, α + sum(weight*(centre1[i] - x_m[i])^2 for i in 1:nVariables)) \n",
    "    \n",
    "    #Le problème est quadratique et ne peut pas être résolu tel quel\n",
    "    \n",
    "    # On passe par un deuxième problème\n",
    "    model_lie = Model(SOLVER)  # cutting-plane\n",
    "    JuMP.set_silent(model_lie)\n",
    "    set_optimizer_attribute(model_lie, \"CPX_PARAM_LPMETHOD\", 2)\n",
    "    g = @variable(model_lie, g >= LB)\n",
    "    centre2 = @variable(model_lie, centre2[1:nVariables]) \n",
    "    @objective(model_lie, Min, g)\n",
    "    stop = false\n",
    "    \n",
    "    lb, ub = -Inf, Inf\n",
    "    # Best upper bound\n",
    "    best_ub = ub\n",
    "    # Number of serious step\n",
    "    nb_ss = 0\n",
    "    # Number of null step\n",
    "    nb_ns = 0\n",
    "    # Maximum number of update (i.e. center update, or serious step)\n",
    "    nb_update = 3\n",
    "    # Regularization weight\n",
    "    weight = 1.0\n",
    "    \n",
    "    epsilon = 1e-5\n",
    "    delta = 1e-5\n",
    "    \n",
    "    list_ub = []\n",
    "    list_lb = []\n",
    "    list_best_ub = []\n",
    "    \n",
    "    update_center(centre1, x_k)\n",
    "    \n",
    "    while !stop && nb_ns + nb_ss <= maxit && nb_ss <= nb_update\n",
    "\n",
    "        f_temp = f(x_temp)\n",
    "        grad_temp = ForwardDiff.gradient(f, x_temp)\n",
    "        @constraint(master, α >= f_temp + dot(grad_temp, x_m - x_temp)) #Transformation de Yosida\n",
    "        @constraint(model_lie, g >= f_temp + dot(grad_temp, centre2 - x_temp)) #Approximation tangeantielle de f\n",
    "    \n",
    "        update_center(centre1, x_k)\n",
    "\n",
    "        optimize!(master)\n",
    "        x_temp = JuMP.value.(x_m)\n",
    "        update_center(centre2, x_temp)\n",
    "        optimize!(model_lie)\n",
    "        g0 = JuMP.value(g)       \n",
    "        lb = g0\n",
    "        ub = f(x_temp)\n",
    "        best_ub = min(ub, best_ub)\n",
    "        \n",
    "        append!(list_ub, ub)\n",
    "        append!(list_lb, lb)\n",
    "        append!(list_best_ub, best_ub)\n",
    "\n",
    "        if abs(best_ub-lb) <= weight * norm(x_k-x_temp)^2\n",
    "            if norm(x_k-x_temp) <= epsilon\n",
    "                stop = true\n",
    "            else\n",
    "                x_k = x_temp\n",
    "                nb_ss += 1\n",
    "            end\n",
    "        else\n",
    "            if abs(best_ub-lb) <= delta\n",
    "                stop = true\n",
    "            else\n",
    "                nb_ns +=1\n",
    "            end\n",
    "        end\n",
    "    end        \n",
    "    \n",
    "    return list_ub, list_lb, list_best_ub\n",
    "end;\n",
    "\n"
   ]
  },
  {
   "cell_type": "code",
   "execution_count": 12,
   "metadata": {},
   "outputs": [
    {
     "ename": "MethodError",
     "evalue": "MethodError: no method matching Model(::Type{CPLEX.Optimizer})\nClosest candidates are:\n  Model(::Any, !Matched::Any, !Matched::Any, !Matched::Any, !Matched::Any, !Matched::Any, !Matched::Any, !Matched::Any) at /home/lucas/.julia/packages/JuMP/MsUSY/src/JuMP.jl:126\n  Model(; caching_mode, solver) at /home/lucas/.julia/packages/JuMP/MsUSY/src/JuMP.jl:163\n  Model(!Matched::MathOptInterface.AbstractOptimizer, !Matched::Dict{MathOptInterface.ConstraintIndex,AbstractShape}, !Matched::Set{Any}, !Matched::Any, !Matched::Any, !Matched::Dict{Symbol,Any}, !Matched::Int64, !Matched::Dict{Symbol,Any}) at /home/lucas/.julia/packages/JuMP/MsUSY/src/JuMP.jl:126\n  ...",
     "output_type": "error",
     "traceback": [
      "MethodError: no method matching Model(::Type{CPLEX.Optimizer})\nClosest candidates are:\n  Model(::Any, !Matched::Any, !Matched::Any, !Matched::Any, !Matched::Any, !Matched::Any, !Matched::Any, !Matched::Any) at /home/lucas/.julia/packages/JuMP/MsUSY/src/JuMP.jl:126\n  Model(; caching_mode, solver) at /home/lucas/.julia/packages/JuMP/MsUSY/src/JuMP.jl:163\n  Model(!Matched::MathOptInterface.AbstractOptimizer, !Matched::Dict{MathOptInterface.ConstraintIndex,AbstractShape}, !Matched::Set{Any}, !Matched::Any, !Matched::Any, !Matched::Dict{Symbol,Any}, !Matched::Int64, !Matched::Dict{Symbol,Any}) at /home/lucas/.julia/packages/JuMP/MsUSY/src/JuMP.jl:126\n  ...",
      "",
      "Stacktrace:",
      " [1] launch_proximal(::Array{Float64,1}, ::Array{Float64,1}, ::Int64) at ./In[11]:11",
      " [2] top-level scope at In[12]:1"
     ]
    }
   ],
   "source": [
    "list_ub, list_lb, list_best_ub = launch_proximal(xMin, xMax, 10000);"
   ]
  },
  {
   "cell_type": "code",
   "execution_count": 13,
   "metadata": {},
   "outputs": [
    {
     "ename": "UndefVarError",
     "evalue": "UndefVarError: list_best_ub not defined",
     "output_type": "error",
     "traceback": [
      "UndefVarError: list_best_ub not defined",
      "",
      "Stacktrace:",
      " [1] top-level scope at In[13]:1"
     ]
    }
   ],
   "source": [
    "list_best_ub[end]"
   ]
  },
  {
   "cell_type": "code",
   "execution_count": 14,
   "metadata": {},
   "outputs": [
    {
     "ename": "UndefVarError",
     "evalue": "UndefVarError: list_best_ub not defined",
     "output_type": "error",
     "traceback": [
      "UndefVarError: list_best_ub not defined",
      "",
      "Stacktrace:",
      " [1] top-level scope at In[14]:1"
     ]
    }
   ],
   "source": [
    "N = length(list_best_ub)\n",
    "\n",
    "figure()\n",
    "plot((1:N), list_best_ub[1:end])\n",
    "legend([\"best_ub\"])\n",
    "title(\"Evolution du meilleur majorant\")\n",
    "\n",
    "figure()\n",
    "semilogy((1:N), list_best_ub-list_lb))\n",
    "legend([\"Longueur intrvl sols\"])\n",
    "title(\"Evolution de l'amplitude l'intervalle des solutions admissibles à chaque itération\")"
   ]
  }
 ],
 "metadata": {
  "kernelspec": {
   "display_name": "Julia 1.3.1",
   "language": "julia",
   "name": "julia-1.3"
  },
  "language_info": {
   "file_extension": ".jl",
   "mimetype": "application/julia",
   "name": "julia",
   "version": "1.3.1"
  }
 },
 "nbformat": 4,
 "nbformat_minor": 2
}
